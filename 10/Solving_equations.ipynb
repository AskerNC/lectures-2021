{
 "cells": [
  {
   "cell_type": "markdown",
   "metadata": {},
   "source": [
    "**Today's topics:**  \n",
    "* Symbolic math in Python\n",
    "* Newton's method\n",
    "* Numerical derivatives\n",
    "\n",
    "I'll put up a video on solving systems of equations"
   ]
  },
  {
   "cell_type": "markdown",
   "metadata": {},
   "source": [
    "# Solving equations"
   ]
  },
  {
   "cell_type": "markdown",
   "metadata": {},
   "source": [
    "You will learn about working with matrices and linear algebra (**scipy.linalg**), including solving systems of linear equations. You will learn to find roots of linear and non-linear equations both numerically (**scipy.optimize**) and symbolically (**sympy**)."
   ]
  },
  {
   "cell_type": "markdown",
   "metadata": {},
   "source": [
    "**Note:** The algorithms written here are meant to be illustrative. The scipy implementations are always both the *fastest* and the *safest* choice."
   ]
  },
  {
   "cell_type": "markdown",
   "metadata": {},
   "source": [
    "**Links:**\n",
    "\n",
    "1. **scipy.linalg:** [overview](https://docs.scipy.org/doc/scipy/reference/linalg.html) + [tutorial](https://docs.scipy.org/doc/scipy/reference/tutorial/linalg.html)\n",
    "2. **sympy:** [overview](https://docs.sympy.org/latest/index.html) + [tutorial](https://docs.sympy.org/latest/tutorial/index.html#tutorial)\n",
    "3. **scipy.optimize:** [overview](https://docs.scipy.org/doc/scipy/reference/optimize.html) + [turtorial](https://docs.scipy.org/doc/scipy/reference/tutorial/optimize.html)"
   ]
  },
  {
   "cell_type": "code",
   "execution_count": 2,
   "metadata": {},
   "outputs": [
    {
     "name": "stdout",
     "output_type": "stream",
     "text": [
      "The autoreload extension is already loaded. To reload it, use:\n",
      "  %reload_ext autoreload\n"
     ]
    }
   ],
   "source": [
    "import numpy as np\n",
    "import matplotlib.pyplot as plt\n",
    "plt.style.use('seaborn-whitegrid')\n",
    "import ipywidgets as widgets\n",
    "import time\n",
    "from scipy import linalg\n",
    "from scipy import optimize\n",
    "import sympy as sm\n",
    "from IPython.display import display\n",
    "\n",
    "# local module for linear algebra\n",
    "%load_ext autoreload\n",
    "%autoreload 2\n",
    "import numecon_linalg"
   ]
  },
  {
   "cell_type": "markdown",
   "metadata": {},
   "source": [
    "# Solving equations by symbolic math"
   ]
  },
  {
   "cell_type": "markdown",
   "metadata": {},
   "source": [
    "Just like your old TI calculator and Mathmatica, Python has a module for solving equations symbolically. Which also means solving them **exactly**. No numerical errors!"
   ]
  },
  {
   "cell_type": "markdown",
   "metadata": {},
   "source": [
    "## Solve consumer problem"
   ]
  },
  {
   "cell_type": "markdown",
   "metadata": {},
   "source": [
    "Consider solving the following problem:\n",
    "\n",
    "$$ \n",
    "\\max_{x_1,x_2} x_1^{\\alpha} x_2^{\\beta} \\text{ s.t. } p_1x_1 + p_2x_2 = I \n",
    "$$"
   ]
  },
  {
   "cell_type": "markdown",
   "metadata": {},
   "source": [
    "Define all symbols:"
   ]
  },
  {
   "cell_type": "code",
   "execution_count": 3,
   "metadata": {},
   "outputs": [
    {
     "name": "stdout",
     "output_type": "stream",
     "text": [
      "x1 is of type:  <class 'sympy.core.symbol.Symbol'>\n"
     ]
    }
   ],
   "source": [
    "x1 = sm.symbols('x_1') # x1 is a Python variable representing the symbol x_1\n",
    "x2 = sm.symbols('x_2')\n",
    "alpha = sm.symbols('alpha')\n",
    "beta = sm.symbols('beta')\n",
    "p1 = sm.symbols('p_1')\n",
    "p2 = sm.symbols('p_2')\n",
    "I = sm.symbols('I')\n",
    "\n",
    "print('x1 is of type: ', type(x1))"
   ]
  },
  {
   "cell_type": "markdown",
   "metadata": {},
   "source": [
    "Define objective and budget constraint:"
   ]
  },
  {
   "cell_type": "code",
   "execution_count": 4,
   "metadata": {},
   "outputs": [
    {
     "data": {
      "text/latex": [
       "$\\displaystyle x_{1}^{\\alpha} x_{2}^{\\beta}$"
      ],
      "text/plain": [
       "x_1**alpha*x_2**beta"
      ]
     },
     "execution_count": 4,
     "metadata": {},
     "output_type": "execute_result"
    }
   ],
   "source": [
    "# Write out the equation as if it was regular code\n",
    "objective = x1**alpha*x2**beta\n",
    "objective"
   ]
  },
  {
   "cell_type": "code",
   "execution_count": 5,
   "metadata": {},
   "outputs": [
    {
     "data": {
      "text/latex": [
       "$\\displaystyle p_{1} x_{1} + p_{2} x_{2} = I$"
      ],
      "text/plain": [
       "Eq(p_1*x_1 + p_2*x_2, I)"
      ]
     },
     "execution_count": 5,
     "metadata": {},
     "output_type": "execute_result"
    }
   ],
   "source": [
    "# Define the budget constraint as an equality\n",
    "budget_constraint = sm.Eq(p1*x1+p2*x2,I)\n",
    "budget_constraint"
   ]
  },
  {
   "cell_type": "markdown",
   "metadata": {},
   "source": [
    "Solve in **four steps**:\n",
    "\n",
    "1. **Isolate** $x_2$ from the budget constraint\n",
    "2. **Substitute** in $x_2$\n",
    "3. **Take the derivative** wrt. $x_1$\n",
    "4. **Solve the FOC** for $x_1$"
   ]
  },
  {
   "cell_type": "markdown",
   "metadata": {},
   "source": [
    "**Step 1: Isolate**"
   ]
  },
  {
   "cell_type": "code",
   "execution_count": 6,
   "metadata": {},
   "outputs": [
    {
     "data": {
      "text/latex": [
       "$\\displaystyle \\frac{I - p_{1} x_{1}}{p_{2}}$"
      ],
      "text/plain": [
       "(I - p_1*x_1)/p_2"
      ]
     },
     "execution_count": 6,
     "metadata": {},
     "output_type": "execute_result"
    }
   ],
   "source": [
    "# Isolate x2 on LHS\n",
    "x2_from_con = sm.solve(budget_constraint, x2)\n",
    "x2_from_con[0]"
   ]
  },
  {
   "cell_type": "markdown",
   "metadata": {},
   "source": [
    "**Step 2: Substitute**"
   ]
  },
  {
   "cell_type": "code",
   "execution_count": 7,
   "metadata": {},
   "outputs": [
    {
     "data": {
      "text/latex": [
       "$\\displaystyle x_{1}^{\\alpha} \\left(\\frac{I - p_{1} x_{1}}{p_{2}}\\right)^{\\beta}$"
      ],
      "text/plain": [
       "x_1**alpha*((I - p_1*x_1)/p_2)**beta"
      ]
     },
     "execution_count": 7,
     "metadata": {},
     "output_type": "execute_result"
    }
   ],
   "source": [
    "objective_subs = objective.subs(x2, x2_from_con[0])\n",
    "objective_subs"
   ]
  },
  {
   "cell_type": "markdown",
   "metadata": {},
   "source": [
    "**Step 3: Take the derivative**"
   ]
  },
  {
   "cell_type": "code",
   "execution_count": 8,
   "metadata": {},
   "outputs": [
    {
     "data": {
      "text/latex": [
       "$\\displaystyle \\frac{\\alpha x_{1}^{\\alpha} \\left(\\frac{I - p_{1} x_{1}}{p_{2}}\\right)^{\\beta}}{x_{1}} - \\frac{\\beta p_{1} x_{1}^{\\alpha} \\left(\\frac{I - p_{1} x_{1}}{p_{2}}\\right)^{\\beta}}{I - p_{1} x_{1}}$"
      ],
      "text/plain": [
       "alpha*x_1**alpha*((I - p_1*x_1)/p_2)**beta/x_1 - beta*p_1*x_1**alpha*((I - p_1*x_1)/p_2)**beta/(I - p_1*x_1)"
      ]
     },
     "execution_count": 8,
     "metadata": {},
     "output_type": "execute_result"
    }
   ],
   "source": [
    "foc = sm.diff(objective_subs, x1)\n",
    "foc"
   ]
  },
  {
   "cell_type": "markdown",
   "metadata": {},
   "source": [
    "**Step 4: Solve the FOC**"
   ]
  },
  {
   "cell_type": "code",
   "execution_count": 9,
   "metadata": {},
   "outputs": [
    {
     "data": {
      "text/latex": [
       "$\\displaystyle \\frac{I \\alpha}{p_{1} \\left(\\alpha + \\beta\\right)}$"
      ],
      "text/plain": [
       "I*alpha/(p_1*(alpha + beta))"
      ]
     },
     "execution_count": 9,
     "metadata": {},
     "output_type": "execute_result"
    }
   ],
   "source": [
    "sol = sm.solve(sm.Eq(foc,0), x1)\n",
    "sol[0]"
   ]
  },
  {
   "cell_type": "markdown",
   "metadata": {},
   "source": [
    "> An alternative is `sm.solveset()`, which will be the default in the future, but it is still a bit immature in my view."
   ]
  },
  {
   "cell_type": "markdown",
   "metadata": {},
   "source": [
    "**Task:** Solve the consumer problem with quasi-linear preferences,\n",
    "\n",
    "$$ \\max_{x_1,x_2} \\sqrt{x_1} + \\gamma x_2 \\text{ s.t. } p_1x_1 + p_2x_2 = I $$"
   ]
  },
  {
   "cell_type": "code",
   "execution_count": 10,
   "metadata": {},
   "outputs": [],
   "source": [
    "# write your code here        "
   ]
  },
  {
   "cell_type": "code",
   "execution_count": 11,
   "metadata": {
    "jupyter": {
     "source_hidden": true
    }
   },
   "outputs": [
    {
     "data": {
      "text/latex": [
       "$\\displaystyle \\frac{p_{2}^{2}}{4 \\gamma^{2} p_{1}^{2}}$"
      ],
      "text/plain": [
       "p_2**2/(4*gamma**2*p_1**2)"
      ]
     },
     "execution_count": 11,
     "metadata": {},
     "output_type": "execute_result"
    }
   ],
   "source": [
    "gamma = sm.symbols('gamma')\n",
    "objective_alt = sm.sqrt(x1) + gamma*x2\n",
    "objective_alt_subs = objective_alt.subs(x2,x2_from_con[0])\n",
    "foc_alt = sm.diff(objective_alt_subs,x1)\n",
    "sol_alt = sm.solve(foc_alt,x1)\n",
    "sol_alt[0]"
   ]
  },
  {
   "cell_type": "markdown",
   "metadata": {},
   "source": [
    "## Use solution"
   ]
  },
  {
   "cell_type": "markdown",
   "metadata": {},
   "source": [
    "**LaTex:** Print in LaTex format:"
   ]
  },
  {
   "cell_type": "code",
   "execution_count": 12,
   "metadata": {},
   "outputs": [
    {
     "name": "stdout",
     "output_type": "stream",
     "text": [
      "\\frac{I \\alpha}{p_{1} \\left(\\alpha + \\beta\\right)}\n"
     ]
    }
   ],
   "source": [
    "print(sm.latex(sol[0]))"
   ]
  },
  {
   "cell_type": "markdown",
   "metadata": {},
   "source": [
    "### Turn solution into Python function\n",
    "\n",
    "Sympy can do a fantastic trick!  \n",
    "\n",
    "Once you have the solution of your equation, this can be **turned into a Python function**. Thus you can use the solution on arrays. It's called lambdification (think \"lambda functions\")."
   ]
  },
  {
   "cell_type": "code",
   "execution_count": 13,
   "metadata": {},
   "outputs": [
    {
     "data": {
      "text/plain": [
       "144"
      ]
     },
     "execution_count": 13,
     "metadata": {},
     "output_type": "execute_result"
    }
   ],
   "source": [
    "# Simple example. 1st element of lambdify: a tuple of symbols to be used. 2nd element: the expression used on the symbols.  \n",
    "x = sm.symbols('x')\n",
    "x_square = sm.lambdify(args = (x), expr = x**2)\n",
    "x_square(12)"
   ]
  },
  {
   "cell_type": "code",
   "execution_count": 14,
   "metadata": {},
   "outputs": [
    {
     "name": "stdout",
     "output_type": "stream",
     "text": [
      "demand: 4.167\n",
      "demand: 1.667\n",
      "demand: 1.000\n",
      "demand: 0.556\n"
     ]
    }
   ],
   "source": [
    "# Create a function out of the solution by providing the \"expression\" you want (ie the solution) and the inputs to the expression in a tuple. \n",
    "sol_func = sm.lambdify(args = (p1, I, alpha, beta), expr = sol[0])\n",
    "\n",
    "# Run solution. DO NOT overwrite the SYMBOLS (I,alpha,beta) with numeric data\n",
    "p1_vec = np.array([1.2,3,5,9])\n",
    "I_val = 10\n",
    "alpha_val = 0.5\n",
    "beta_val = 0.5\n",
    "\n",
    "# Run solution function with vector of prices\n",
    "demand_p1 = sol_func(p1_vec, I_val, alpha_val, beta_val)\n",
    "\n",
    "for d in demand_p1:\n",
    "    print(f'demand: {d:1.3f}')"
   ]
  },
  {
   "cell_type": "markdown",
   "metadata": {},
   "source": [
    "### Analyzing properties of the solution (expression)"
   ]
  },
  {
   "cell_type": "markdown",
   "metadata": {},
   "source": [
    "**Is demand always positive?**"
   ]
  },
  {
   "cell_type": "markdown",
   "metadata": {},
   "source": [
    "Give the computer the **information** we have. I.e. that $p_1$, $p_2$, $\\alpha$, $\\beta$, $I$ are all strictly positive:"
   ]
  },
  {
   "cell_type": "code",
   "execution_count": 15,
   "metadata": {},
   "outputs": [
    {
     "data": {
      "text/plain": [
       "{Q.positive(I),\n",
       " Q.positive(alpha),\n",
       " Q.positive(beta),\n",
       " Q.positive(p_1),\n",
       " Q.positive(p_2)}"
      ]
     },
     "execution_count": 15,
     "metadata": {},
     "output_type": "execute_result"
    }
   ],
   "source": [
    "for var in [p1,p2,alpha,beta,I]:\n",
    "    sm.assumptions.assume.global_assumptions.add(sm.Q.positive(var)) # var is always positive\n",
    "sm.assumptions.assume.global_assumptions    "
   ]
  },
  {
   "cell_type": "markdown",
   "metadata": {},
   "source": [
    "**Ask** the computer a **question**:"
   ]
  },
  {
   "cell_type": "code",
   "execution_count": 16,
   "metadata": {},
   "outputs": [
    {
     "name": "stdout",
     "output_type": "stream",
     "text": [
      "True\n"
     ]
    }
   ],
   "source": [
    "answer = sm.ask(sm.Q.positive(sol[0]))\n",
    "print(answer)"
   ]
  },
  {
   "cell_type": "markdown",
   "metadata": {},
   "source": [
    "We need the assumption that $p_1 > 0$:"
   ]
  },
  {
   "cell_type": "code",
   "execution_count": 17,
   "metadata": {},
   "outputs": [
    {
     "name": "stdout",
     "output_type": "stream",
     "text": [
      "None\n"
     ]
    }
   ],
   "source": [
    "sm.assumptions.assume.global_assumptions.remove(sm.Q.positive(p1))\n",
    "answer = sm.ask(sm.Q.positive(sol[0]))\n",
    "print(answer)"
   ]
  },
  {
   "cell_type": "markdown",
   "metadata": {},
   "source": [
    "To clear all assumptions we can use:"
   ]
  },
  {
   "cell_type": "code",
   "execution_count": 18,
   "metadata": {},
   "outputs": [],
   "source": [
    "sm.assumptions.assume.global_assumptions.clear()"
   ]
  },
  {
   "cell_type": "markdown",
   "metadata": {},
   "source": [
    "## More features of symbolic math (mixed goodies)"
   ]
  },
  {
   "cell_type": "code",
   "execution_count": 19,
   "metadata": {},
   "outputs": [],
   "source": [
    "x = sm.symbols('x')"
   ]
  },
  {
   "cell_type": "markdown",
   "metadata": {},
   "source": [
    "**Derivatives:** Higher order derivatives are also available"
   ]
  },
  {
   "cell_type": "code",
   "execution_count": 20,
   "metadata": {},
   "outputs": [
    {
     "data": {
      "text/latex": [
       "$\\displaystyle \\frac{d^{2}}{d x^{2}} x^{4}$"
      ],
      "text/plain": [
       "Derivative(x**4, (x, 2))"
      ]
     },
     "execution_count": 20,
     "metadata": {},
     "output_type": "execute_result"
    }
   ],
   "source": [
    "sm.Derivative('x**4',x,x)"
   ]
  },
  {
   "cell_type": "code",
   "execution_count": 21,
   "metadata": {},
   "outputs": [
    {
     "data": {
      "text/latex": [
       "$\\displaystyle 12 x^{2}$"
      ],
      "text/plain": [
       "12*x**2"
      ]
     },
     "execution_count": 21,
     "metadata": {},
     "output_type": "execute_result"
    }
   ],
   "source": [
    "sm.diff('x**4',x,x)"
   ]
  },
  {
   "cell_type": "markdown",
   "metadata": {},
   "source": [
    "Alternatively,"
   ]
  },
  {
   "cell_type": "code",
   "execution_count": 22,
   "metadata": {},
   "outputs": [
    {
     "data": {
      "text/latex": [
       "$\\displaystyle 12 x^{2}$"
      ],
      "text/plain": [
       "12*x**2"
      ]
     },
     "execution_count": 22,
     "metadata": {},
     "output_type": "execute_result"
    }
   ],
   "source": [
    "expr = sm.Derivative('x**4',x,x)\n",
    "expr.doit()"
   ]
  },
  {
   "cell_type": "markdown",
   "metadata": {},
   "source": [
    "**Integrals:**"
   ]
  },
  {
   "cell_type": "code",
   "execution_count": 23,
   "metadata": {},
   "outputs": [
    {
     "data": {
      "text/latex": [
       "$\\displaystyle \\int\\limits_{0}^{\\infty} e^{- x}\\, dx$"
      ],
      "text/plain": [
       "Integral(exp(-x), (x, 0, oo))"
      ]
     },
     "execution_count": 23,
     "metadata": {},
     "output_type": "execute_result"
    }
   ],
   "source": [
    "sm.Integral(sm.exp(-x), (x, 0, sm.oo))"
   ]
  },
  {
   "cell_type": "code",
   "execution_count": 24,
   "metadata": {},
   "outputs": [
    {
     "data": {
      "text/latex": [
       "$\\displaystyle 1$"
      ],
      "text/plain": [
       "1"
      ]
     },
     "execution_count": 24,
     "metadata": {},
     "output_type": "execute_result"
    }
   ],
   "source": [
    "sm.integrate(sm.exp(-x), (x, 0, sm.oo))"
   ]
  },
  {
   "cell_type": "markdown",
   "metadata": {},
   "source": [
    "**Limits:**"
   ]
  },
  {
   "cell_type": "code",
   "execution_count": 25,
   "metadata": {},
   "outputs": [
    {
     "data": {
      "text/latex": [
       "$\\displaystyle \\lim_{\\rho \\to 1^+}\\left(\\frac{c^{1 - \\rho} - 1}{1 - \\rho}\\right)$"
      ],
      "text/plain": [
       "Limit((c**(1 - rho) - 1)/(1 - rho), rho, 1)"
      ]
     },
     "execution_count": 25,
     "metadata": {},
     "output_type": "execute_result"
    }
   ],
   "source": [
    "c = sm.symbols('c')\n",
    "rho = sm.symbols('rho')\n",
    "sm.Limit((c**(1-rho)-1)/(1-rho),rho,1)"
   ]
  },
  {
   "cell_type": "code",
   "execution_count": 26,
   "metadata": {},
   "outputs": [
    {
     "data": {
      "text/latex": [
       "$\\displaystyle \\log{\\left(c \\right)}$"
      ],
      "text/plain": [
       "log(c)"
      ]
     },
     "execution_count": 26,
     "metadata": {},
     "output_type": "execute_result"
    }
   ],
   "source": [
    "sm.limit((c**(1-rho)-1)/(1-rho),rho,1)"
   ]
  },
  {
   "cell_type": "markdown",
   "metadata": {},
   "source": [
    "**Integers:**"
   ]
  },
  {
   "cell_type": "code",
   "execution_count": 27,
   "metadata": {},
   "outputs": [
    {
     "data": {
      "text/latex": [
       "$\\displaystyle \\frac{7}{3}$"
      ],
      "text/plain": [
       "7/3"
      ]
     },
     "metadata": {},
     "output_type": "display_data"
    },
    {
     "data": {
      "text/latex": [
       "$\\displaystyle \\frac{3}{8}$"
      ],
      "text/plain": [
       "3/8"
      ]
     },
     "metadata": {},
     "output_type": "display_data"
    },
    {
     "data": {
      "text/latex": [
       "$\\displaystyle \\frac{343}{512}$"
      ],
      "text/plain": [
       "343/512"
      ]
     },
     "execution_count": 27,
     "metadata": {},
     "output_type": "execute_result"
    }
   ],
   "source": [
    "X = sm.Integer(7)/sm.Integer(3)\n",
    "Y = sm.Integer(3)/sm.Integer(8)\n",
    "display(X)\n",
    "display(Y)\n",
    "Z = 3\n",
    "(X*Y)**Z"
   ]
  },
  {
   "cell_type": "markdown",
   "metadata": {},
   "source": [
    "**Simplify:**"
   ]
  },
  {
   "cell_type": "code",
   "execution_count": 28,
   "metadata": {},
   "outputs": [
    {
     "data": {
      "text/latex": [
       "$\\displaystyle \\sin^{2}{\\left(x \\right)} + \\cos^{2}{\\left(x \\right)}$"
      ],
      "text/plain": [
       "sin(x)**2 + cos(x)**2"
      ]
     },
     "metadata": {},
     "output_type": "display_data"
    }
   ],
   "source": [
    "expr = sm.sin(x)**2 + sm.cos(x)**2\n",
    "display(expr)"
   ]
  },
  {
   "cell_type": "code",
   "execution_count": 29,
   "metadata": {},
   "outputs": [
    {
     "data": {
      "text/latex": [
       "$\\displaystyle 1$"
      ],
      "text/plain": [
       "1"
      ]
     },
     "execution_count": 29,
     "metadata": {},
     "output_type": "execute_result"
    }
   ],
   "source": [
    "sm.simplify(expr)"
   ]
  },
  {
   "cell_type": "markdown",
   "metadata": {},
   "source": [
    "**Solve multiple equations at once:**"
   ]
  },
  {
   "cell_type": "code",
   "execution_count": 30,
   "metadata": {},
   "outputs": [
    {
     "data": {
      "text/latex": [
       "$\\displaystyle x^{2} + y - 2 = 0$"
      ],
      "text/plain": [
       "Eq(x**2 + y - 2, 0)"
      ]
     },
     "metadata": {},
     "output_type": "display_data"
    },
    {
     "data": {
      "text/latex": [
       "$\\displaystyle y^{2} - 4 = 0$"
      ],
      "text/plain": [
       "Eq(y**2 - 4, 0)"
      ]
     },
     "metadata": {},
     "output_type": "display_data"
    }
   ],
   "source": [
    "x = sm.symbols('x')\n",
    "y = sm.symbols('y')\n",
    "Eq1 = sm.Eq(x**2+y-2,0)\n",
    "Eq2 = sm.Eq(y**2-4,0)\n",
    "display(Eq1)\n",
    "display(Eq2)"
   ]
  },
  {
   "cell_type": "code",
   "execution_count": 31,
   "metadata": {},
   "outputs": [
    {
     "name": "stdout",
     "output_type": "stream",
     "text": [
      "(x,y) = (-2,-2)\n",
      "(x,y) = (0,2)\n",
      "(x,y) = (0,2)\n",
      "(x,y) = (2,-2)\n"
     ]
    }
   ],
   "source": [
    "# Solve the system\n",
    "sol = sm.solve([Eq1,Eq2],[x,y])\n",
    "\n",
    "# print all solutions\n",
    "for xy in sol:\n",
    "    print(f'(x,y) = ({xy[0]},{xy[1]})')"
   ]
  },
  {
   "cell_type": "markdown",
   "metadata": {},
   "source": [
    "# Systems of linear equations"
   ]
  },
  {
   "cell_type": "markdown",
   "metadata": {},
   "source": [
    "## Introduction"
   ]
  },
  {
   "cell_type": "markdown",
   "metadata": {},
   "source": [
    "We consider **matrix equations** with $n$ equations and $n$ unknowns:\n",
    "\n",
    "$$\n",
    "\\begin{aligned}\n",
    "Ax = b \\Leftrightarrow\n",
    "\\begin{bmatrix}a_{11} & a_{12} & \\cdots & a_{1n}\\\\\n",
    "a_{21} & a_{22} & \\cdots & a_{2n}\\\\\n",
    "\\vdots & \\vdots & \\ddots & \\vdots\\\\\n",
    "a_{n1} & a_{n2} & \\cdots & a_{nn}\n",
    "\\end{bmatrix}\\cdot\\begin{bmatrix}x_{1}\\\\\n",
    "x_{2}\\\\\n",
    "\\vdots\\\\\n",
    "x_{n}\n",
    "\\end{bmatrix} & = \\begin{bmatrix}b_{1}\\\\\n",
    "b_{2}\\\\\n",
    "\\vdots\\\\\n",
    "b_{n}\n",
    "\\end{bmatrix}\n",
    "\\end{aligned}\n",
    "$$\n",
    "\n",
    "where $A$ is a square parameter matrix, $b$ is a parameter vector, and $x$ is the vector of unknowns."
   ]
  },
  {
   "cell_type": "markdown",
   "metadata": {},
   "source": [
    "A specific **example** could be:\n",
    "\n",
    "$$ \n",
    "\\begin{aligned}\n",
    "Ax = b \\Leftrightarrow\n",
    "\\begin{bmatrix} \n",
    "3 & 2 & 0 \\\\ \n",
    "1 & -1 & 0 \\\\\n",
    "0 & 5 & 1\n",
    "\\end{bmatrix} \\cdot\n",
    "\\begin{bmatrix} \n",
    "x_1 \\\\ \n",
    "x_2 \\\\\n",
    "x_3\n",
    "\\end{bmatrix} \\,=\\,\n",
    "\\begin{bmatrix} \n",
    "2 \\\\ \n",
    "4 \\\\\n",
    "-1\n",
    "\\end{bmatrix} \n",
    "\\end{aligned}\n",
    "$$"
   ]
  },
  {
   "cell_type": "markdown",
   "metadata": {},
   "source": [
    "**How to solve this?**"
   ]
  },
  {
   "cell_type": "code",
   "execution_count": 32,
   "metadata": {},
   "outputs": [],
   "source": [
    "A = np.array([[3.0, 2.0, 0.0], [1.0, -1.0, 0], [0.0, 5.0, 1.0]])\n",
    "b = np.array([2.0, 4.0, -1.0])"
   ]
  },
  {
   "cell_type": "markdown",
   "metadata": {},
   "source": [
    "Trial-and-error:"
   ]
  },
  {
   "cell_type": "code",
   "execution_count": 33,
   "metadata": {},
   "outputs": [
    {
     "name": "stdout",
     "output_type": "stream",
     "text": [
      "A@x:  [4. 3. 4.]\n",
      "solution not found\n"
     ]
    }
   ],
   "source": [
    "Ax = A@[2,-1,9] # @ is matrix multiplication\n",
    "print('A@x: ',Ax)\n",
    "\n",
    "if np.allclose(Ax,b): \n",
    "    print('solution found')\n",
    "else:\n",
    "    print('solution not found')"
   ]
  },
  {
   "cell_type": "markdown",
   "metadata": {},
   "source": [
    "**Various matrix operations:**"
   ]
  },
  {
   "cell_type": "code",
   "execution_count": 34,
   "metadata": {},
   "outputs": [
    {
     "data": {
      "text/plain": [
       "array([[ 3.,  1.,  0.],\n",
       "       [ 2., -1.,  5.],\n",
       "       [ 0.,  0.,  1.]])"
      ]
     },
     "execution_count": 34,
     "metadata": {},
     "output_type": "execute_result"
    }
   ],
   "source": [
    "A.T # transpose"
   ]
  },
  {
   "cell_type": "code",
   "execution_count": 35,
   "metadata": {},
   "outputs": [
    {
     "data": {
      "text/plain": [
       "array([ 3., -1.,  1.])"
      ]
     },
     "execution_count": 35,
     "metadata": {},
     "output_type": "execute_result"
    }
   ],
   "source": [
    "np.diag(A) # diagonal"
   ]
  },
  {
   "cell_type": "code",
   "execution_count": 36,
   "metadata": {},
   "outputs": [
    {
     "data": {
      "text/plain": [
       "array([[ 3.,  0.,  0.],\n",
       "       [ 1., -1.,  0.],\n",
       "       [ 0.,  5.,  1.]])"
      ]
     },
     "execution_count": 36,
     "metadata": {},
     "output_type": "execute_result"
    }
   ],
   "source": [
    "np.tril(A) # lower triangular matrix"
   ]
  },
  {
   "cell_type": "code",
   "execution_count": 37,
   "metadata": {},
   "outputs": [
    {
     "data": {
      "text/plain": [
       "array([[ 3.,  2.,  0.],\n",
       "       [ 0., -1.,  0.],\n",
       "       [ 0.,  0.,  1.]])"
      ]
     },
     "execution_count": 37,
     "metadata": {},
     "output_type": "execute_result"
    }
   ],
   "source": [
    "np.triu(A) # upper triangular matrix"
   ]
  },
  {
   "cell_type": "code",
   "execution_count": 38,
   "metadata": {},
   "outputs": [
    {
     "name": "stdout",
     "output_type": "stream",
     "text": [
      "[[0. 2. 0.]\n",
      " [1. 0. 0.]\n",
      " [0. 5. 0.]]\n"
     ]
    }
   ],
   "source": [
    "B = A.copy()\n",
    "np.fill_diagonal(B,0) # fill diagonal with zeros\n",
    "print(B)"
   ]
  },
  {
   "cell_type": "code",
   "execution_count": 39,
   "metadata": {},
   "outputs": [
    {
     "data": {
      "text/plain": [
       "array([[ 2.00000000e-01,  4.00000000e-01,  1.85037171e-18],\n",
       "       [ 2.00000000e-01, -6.00000000e-01, -7.40148683e-18],\n",
       "       [-1.00000000e+00,  3.00000000e+00,  1.00000000e+00]])"
      ]
     },
     "execution_count": 39,
     "metadata": {},
     "output_type": "execute_result"
    }
   ],
   "source": [
    "linalg.inv(A) # inverse"
   ]
  },
  {
   "cell_type": "code",
   "execution_count": 40,
   "metadata": {},
   "outputs": [
    {
     "data": {
      "text/plain": [
       "array([ 1.        +0.j, -1.44948974+0.j,  3.44948974+0.j])"
      ]
     },
     "execution_count": 40,
     "metadata": {},
     "output_type": "execute_result"
    }
   ],
   "source": [
    "linalg.eigvals(A) # eigen values"
   ]
  },
  {
   "cell_type": "markdown",
   "metadata": {},
   "source": [
    "## Direct solution with Gauss-Jordan elimination"
   ]
  },
  {
   "cell_type": "markdown",
   "metadata": {},
   "source": [
    "Consider the column stacked matrix:\n",
    "\n",
    "$$\n",
    "X=[A\\,|\\,b]=\\begin{bmatrix}a_{11} & a_{12} & \\cdots & a_{1n} & b_{1}\\\\\n",
    "a_{21} & a_{22} & \\cdots & a_{2n} & b_{2}\\\\\n",
    "\\vdots & \\vdots & \\ddots & \\vdots & \\vdots\\\\\n",
    "a_{n1} & a_{n2} & \\cdots & a_{nn} & b_{n}\n",
    "\\end{bmatrix}\n",
    "$$"
   ]
  },
  {
   "cell_type": "markdown",
   "metadata": {},
   "source": [
    "Find the **row reduced echelon form** by performing row operations, i.e.\n",
    "\n",
    "1. Multiply row with constant\n",
    "2. Swap rows\n",
    "3. Add one row to another row,"
   ]
  },
  {
   "cell_type": "markdown",
   "metadata": {},
   "source": [
    "until the $A$ part of the matrix is the identity matrix."
   ]
  },
  {
   "cell_type": "markdown",
   "metadata": {},
   "source": [
    "**Manually:**"
   ]
  },
  {
   "cell_type": "code",
   "execution_count": 41,
   "metadata": {},
   "outputs": [
    {
     "name": "stdout",
     "output_type": "stream",
     "text": [
      "stacked:\n",
      " [[ 3.  2.  0.  2.]\n",
      " [ 1. -1.  0.  4.]\n",
      " [ 0.  5.  1. -1.]]\n",
      "\n",
      "row reduced echelon form:\n",
      " [[ 1.  0.  0.  2.]\n",
      " [-0.  1. -0. -2.]\n",
      " [ 0.  0.  1.  9.]]\n",
      "\n",
      "solution \n",
      " [ 2. -2.  9.]\n"
     ]
    }
   ],
   "source": [
    "# a. stack\n",
    "X = np.column_stack((A,b))\n",
    "print('stacked:\\n',X)\n",
    "\n",
    "# b. row operations\n",
    "X[0,:] += 2*X[1,:]\n",
    "X[0,:] /= 5.0\n",
    "X[1,:] -= X[0,:]\n",
    "X[1,:] *= -1\n",
    "X[2,:] -= 5*X[1,:]\n",
    "print('\\nrow reduced echelon form:\\n',X)\n",
    "\n",
    "# c. print result (the last column in X in row reduced echelon form)\n",
    "print('\\nsolution \\n', X[:,-1])"
   ]
  },
  {
   "cell_type": "markdown",
   "metadata": {},
   "source": [
    "**General function:**"
   ]
  },
  {
   "cell_type": "code",
   "execution_count": 42,
   "metadata": {},
   "outputs": [
    {
     "name": "stdout",
     "output_type": "stream",
     "text": [
      "solution [ 2. -2.  9.]\n"
     ]
    }
   ],
   "source": [
    "Y = np.column_stack((A,b))\n",
    "numecon_linalg.gauss_jordan(Y)\n",
    "print('solution',Y[:,-1])"
   ]
  },
  {
   "cell_type": "markdown",
   "metadata": {},
   "source": [
    "which can also be used to find the inverse if we stack with the identity matrix instead,"
   ]
  },
  {
   "cell_type": "code",
   "execution_count": 43,
   "metadata": {},
   "outputs": [
    {
     "name": "stdout",
     "output_type": "stream",
     "text": [
      "stacked:\n",
      " [[ 3.  2.  0.  1.  0.  0.]\n",
      " [ 1. -1.  0.  0.  1.  0.]\n",
      " [ 0.  5.  1.  0.  0.  1.]]\n",
      "inverse:\n",
      " [[ 0.2  0.4  0. ]\n",
      " [ 0.2 -0.6  0. ]\n",
      " [-1.   3.   1. ]]\n"
     ]
    }
   ],
   "source": [
    "# a. construct stacked matrix\n",
    "Z = np.hstack((A,np.eye(3)))\n",
    "print('stacked:\\n',Z)\n",
    "\n",
    "# b. apply gauss jordan elimination\n",
    "numecon_linalg.gauss_jordan(Z)\n",
    "\n",
    "# b. find inverse\n",
    "inv_Z = Z[:,3:] # last 3 columns of Z in row reduced echelon form\n",
    "print('inverse:\\n',inv_Z)\n",
    "\n",
    "assert np.allclose(Z[:,3:]@A,np.eye(3))"
   ]
  },
  {
   "cell_type": "markdown",
   "metadata": {},
   "source": [
    "## Iteative Gauss-Seidel (+)"
   ]
  },
  {
   "cell_type": "markdown",
   "metadata": {},
   "source": [
    "We can always decompose $A$ into additive lower and upper triangular matrices,\n",
    "\n",
    "$$\n",
    "A=L+U=\\begin{bmatrix}a_{11} & 0 & \\cdots & 0\\\\\n",
    "a_{21} & a_{22} & \\cdots & 0\\\\\n",
    "\\vdots & \\vdots & \\ddots & \\vdots\\\\\n",
    "a_{n1} & a_{n2} & \\cdots & a_{nn}\n",
    "\\end{bmatrix}+\\begin{bmatrix}0 & a_{12} & \\cdots & a_{1n}\\\\\n",
    "0 & 0 & \\cdots & a_{2n}\\\\\n",
    "\\vdots & \\vdots & \\ddots & \\vdots\\\\\n",
    "0 & 0 & \\cdots & 0\n",
    "\\end{bmatrix}\n",
    "$$\n",
    "\n",
    "such that\n",
    "\n",
    "$$\n",
    "Ax=b\\Leftrightarrow Lx=b-Ux\n",
    "$$"
   ]
  },
  {
   "cell_type": "markdown",
   "metadata": {},
   "source": [
    "**Algorithm:** `gauss_seidel()`\n",
    "\n",
    "1. Choose tolerance $\\epsilon > 0$, guess on $x_0$, and set $n=1$.\n",
    "2. Find $x_n$ by solving \\\\( Lx_n = y \\equiv (b-Ux_{n-1}) \\\\).\n",
    "3. If $|x_n-x_{n-1}|_{\\infty} < \\epsilon$ stop, else $n=n+1 $ and return to step 2."
   ]
  },
  {
   "cell_type": "markdown",
   "metadata": {},
   "source": [
    "> **Note:** Step 2 is very easy because the equation can be solved directly by *forward substitution*:\n",
    ">\n",
    "> $x_1 = \\frac{y_1}{a_{11}}$\n",
    ">\n",
    "> $x_2 = \\frac{(y_2 - a_{21} x_1)}{a_{22}}$\n",
    ">\n",
    "> $x_3 = \\frac{(y_3 - a_{31} x_1 - a_{32} x_2)}{a_{33}}$\n",
    ">\n",
    "> etc."
   ]
  },
  {
   "cell_type": "markdown",
   "metadata": {},
   "source": [
    "**Apply Gauss-Seidel:**"
   ]
  },
  {
   "cell_type": "code",
   "execution_count": 44,
   "metadata": {},
   "outputs": [
    {
     "name": "stdout",
     "output_type": "stream",
     "text": [
      "solution [ 2. -2.  9.]\n"
     ]
    }
   ],
   "source": [
    "x0 = np.array([1,1,1])\n",
    "x =  numecon_linalg.gauss_seidel(A,b,x0)\n",
    "print('solution',x)"
   ]
  },
  {
   "cell_type": "markdown",
   "metadata": {},
   "source": [
    "> **Note:** Convergence is not ensured unless the matrix is *diagonally dominant* or *symmetric* and *positive definite*."
   ]
  },
  {
   "cell_type": "code",
   "execution_count": 45,
   "metadata": {},
   "outputs": [
    {
     "name": "stdout",
     "output_type": "stream",
     "text": [
      "   [1 1 1]\n",
      "  0: [  0.00000000  -4.00000000  19.00000000]\n",
      "  1: [  3.33333333  -0.66666667   2.33333333]\n",
      "  2: [  1.11111111  -2.88888889  13.44444444]\n",
      "  3: [  2.59259259  -1.40740741   6.03703704]\n",
      "  4: [  1.60493827  -2.39506173  10.97530864]\n",
      "  5: [  2.26337449  -1.73662551   7.68312757]\n",
      "  6: [  1.82441701  -2.17558299   9.87791495]\n",
      "  7: [  2.11705533  -1.88294467   8.41472337]\n",
      "  8: [  1.92196312  -2.07803688   9.39018442]\n",
      "  9: [  2.05202459  -1.94797541   8.73987705]\n",
      " 10: [  1.96531694  -2.03468306   9.17341530]\n",
      " 11: [  2.02312204  -1.97687796   8.88438980]\n",
      " 12: [  1.98458531  -2.01541469   9.07707347]\n",
      " 13: [  2.01027646  -1.98972354   8.94861769]\n",
      " 14: [  1.99314903  -2.00685097   9.03425487]\n",
      " 15: [  2.00456732  -1.99543268   8.97716342]\n",
      " 16: [  1.99695512  -2.00304488   9.01522439]\n",
      " 17: [  2.00202992  -1.99797008   8.98985041]\n",
      " 18: [  1.99864672  -2.00135328   9.00676639]\n",
      " 19: [  2.00090219  -1.99909781   8.99548907]\n",
      " 20: [  1.99939854  -2.00060146   9.00300729]\n",
      " 21: [  2.00040097  -1.99959903   8.99799514]\n",
      " 22: [  1.99973269  -2.00026731   9.00133657]\n",
      " 23: [  2.00017821  -1.99982179   8.99910895]\n",
      " 24: [  1.99988119  -2.00011881   9.00059403]\n",
      " 25: [  2.00007920  -1.99992080   8.99960398]\n",
      " 26: [  1.99994720  -2.00005280   9.00026401]\n",
      " 27: [  2.00003520  -1.99996480   8.99982399]\n",
      " 28: [  1.99997653  -2.00002347   9.00011734]\n",
      " 29: [  2.00001565  -1.99998435   8.99992177]\n",
      " 30: [  1.99998957  -2.00001043   9.00005215]\n",
      " 31: [  2.00000695  -1.99999305   8.99996523]\n",
      " 32: [  1.99999536  -2.00000464   9.00002318]\n",
      " 33: [  2.00000309  -1.99999691   8.99998455]\n",
      " 34: [  1.99999794  -2.00000206   9.00001030]\n",
      " 35: [  2.00000137  -1.99999863   8.99999313]\n",
      " 36: [  1.99999908  -2.00000092   9.00000458]\n",
      " 37: [  2.00000061  -1.99999939   8.99999695]\n",
      " 38: [  1.99999959  -2.00000041   9.00000203]\n",
      " 39: [  2.00000027  -1.99999973   8.99999864]\n",
      " 40: [  1.99999982  -2.00000018   9.00000090]\n",
      " 41: [  2.00000012  -1.99999988   8.99999940]\n",
      " 42: [  1.99999992  -2.00000008   9.00000040]\n",
      " 43: [  2.00000005  -1.99999995   8.99999973]\n",
      " 44: [  1.99999996  -2.00000004   9.00000018]\n",
      " 45: [  2.00000002  -1.99999998   8.99999988]\n",
      " 46: [  1.99999998  -2.00000002   9.00000008]\n",
      " 47: [  2.00000001  -1.99999999   8.99999995]\n",
      " 48: [  1.99999999  -2.00000001   9.00000004]\n",
      " 49: [  2.00000000  -2.00000000   8.99999998]\n",
      " 50: [  2.00000000  -2.00000000   9.00000002]\n",
      " 51: [  2.00000000  -2.00000000   8.99999999]\n",
      " 52: [  2.00000000  -2.00000000   9.00000001]\n",
      " 53: [  2.00000000  -2.00000000   9.00000000]\n",
      " 54: [  2.00000000  -2.00000000   9.00000000]\n"
     ]
    }
   ],
   "source": [
    "x =  numecon_linalg.gauss_seidel(A,b,x0,do_print=True)"
   ]
  },
  {
   "cell_type": "markdown",
   "metadata": {},
   "source": [
    "## Scipy functions"
   ]
  },
  {
   "cell_type": "markdown",
   "metadata": {},
   "source": [
    "**Option 1:** Use `.solve()` (scipy chooses what happens)."
   ]
  },
  {
   "cell_type": "code",
   "execution_count": 46,
   "metadata": {},
   "outputs": [
    {
     "name": "stdout",
     "output_type": "stream",
     "text": [
      "[ 2. -2.  9.]\n"
     ]
    }
   ],
   "source": [
    "x1 = linalg.solve(A, b)\n",
    "print(x1)\n",
    "assert np.all(A@x1 == b)"
   ]
  },
  {
   "cell_type": "markdown",
   "metadata": {},
   "source": [
    "**Option 2:** Compute `.inv()` first and then solve."
   ]
  },
  {
   "cell_type": "code",
   "execution_count": 47,
   "metadata": {},
   "outputs": [
    {
     "name": "stdout",
     "output_type": "stream",
     "text": [
      "[ 2. -2.  9.]\n"
     ]
    }
   ],
   "source": [
    "Ainv = linalg.inv(A)\n",
    "x2 = Ainv@b\n",
    "print(x2)"
   ]
  },
  {
   "cell_type": "markdown",
   "metadata": {},
   "source": [
    "> **Note:** Computing the inverse is normally not a good idea due to numerical stability."
   ]
  },
  {
   "cell_type": "markdown",
   "metadata": {},
   "source": [
    "**Option 3:** Compute LU decomposition and then solve."
   ]
  },
  {
   "cell_type": "code",
   "execution_count": 48,
   "metadata": {},
   "outputs": [
    {
     "name": "stdout",
     "output_type": "stream",
     "text": [
      "[ 2. -2.  9.]\n"
     ]
    }
   ],
   "source": [
    "LU,piv = linalg.lu_factor(A) # decomposition (factorization)\n",
    "x3 = linalg.lu_solve((LU,piv),b)\n",
    "print(x3)"
   ]
  },
  {
   "cell_type": "markdown",
   "metadata": {},
   "source": [
    "**Detail:** `piv` contains information on a numerical stable reordering."
   ]
  },
  {
   "cell_type": "markdown",
   "metadata": {},
   "source": [
    "## Comparisons\n",
    "\n",
    "1. `linalg.solve()` is the best choice for solving once.\n",
    "2. `linalg.lu_solve()` is the best choice when solving for multipe $b$'s for a fixed $A$ (the LU decomposition only needs to be done once).\n",
    "3. Gauss-Seidel is an alternative when e.g. only an approximate solution is needed."
   ]
  },
  {
   "cell_type": "markdown",
   "metadata": {},
   "source": [
    "## Details on LU factorization (+)\n",
    "\n",
    "When $A$ is *regular* (invertible), we can decompose it into a *lower unit triangular matrix*, $L$, and an *upper triangular matrix*, $U$:\n",
    "\n",
    "$$\n",
    "A= L\\cdot U = \\begin{bmatrix}1 & 0 & \\cdots & 0\\\\\n",
    "l_{21} & 1 & \\cdots & 0\\\\\n",
    "\\vdots & \\vdots & \\ddots & \\vdots\\\\\n",
    "l_{n1} & l_{n2} & \\cdots & 1\n",
    "\\end{bmatrix}\\cdot\\begin{bmatrix}u_{11} & u_{12} & \\cdots & u_{1n}\\\\\n",
    "0 & u_{22} & \\cdots & u_{2n}\\\\\n",
    "\\vdots & \\vdots & \\ddots & \\vdots\\\\\n",
    "0 & 0 & \\cdots & u_{nn}\n",
    "\\end{bmatrix}\n",
    "$$\n",
    "\n",
    "where it can be shown that we can compute the elements by\n",
    "\n",
    "$$\n",
    "\\begin{aligned}\n",
    "u_{ij} &= a_{ij} - \\sum_{k=1}^{i-1} u_{kj} l_{ik} \\\\\n",
    "l_{ij} &= \\frac{1}{u_{jj}} \\big( a_{ij} - \\sum_{k=1}^{j-1} u_{kj} l_{ik} \\big)\n",
    "\\end{aligned}\n",
    "$$\n",
    "\n",
    "This implies that the equation system can be written\n",
    "\n",
    "$$ \n",
    "L(Ux) = b \n",
    "$$"
   ]
  },
  {
   "cell_type": "markdown",
   "metadata": {},
   "source": [
    "**Algorithm:** `lu_solve()`\n",
    "\n",
    "1. Perform LU decomposition (factorization)\n",
    "2. Solve $Ly = b$ for $y$ (by *forward substitution*) where $y = Ux$\n",
    "3. Solve $Ux = y$ for $x$ (by *backward substitution*)"
   ]
  },
  {
   "cell_type": "code",
   "execution_count": 49,
   "metadata": {},
   "outputs": [
    {
     "name": "stdout",
     "output_type": "stream",
     "text": [
      "L:\n",
      " [[ 1.          0.          0.        ]\n",
      " [ 0.33333333  1.          0.        ]\n",
      " [ 0.         -3.          1.        ]]\n",
      "\n",
      "U:\n",
      " [[ 3.          2.          0.        ]\n",
      " [ 0.         -1.66666667  0.        ]\n",
      " [ 0.          0.          1.        ]]\n",
      "\n",
      "solution: [ 2. -2.  9.]\n"
     ]
    }
   ],
   "source": [
    "L,U = numecon_linalg.lu_decomposition(A) # step 1\n",
    "y = numecon_linalg.solve_with_forward_substitution(L,b) # step 2\n",
    "x = numecon_linalg.solve_with_backward_substitution(U,y) # step 3\n",
    "print('L:\\n',L)\n",
    "print('\\nU:\\n',U)\n",
    "print('\\nsolution:',x)"
   ]
  },
  {
   "cell_type": "markdown",
   "metadata": {},
   "source": [
    "**Relation to scipy:**\n",
    "\n",
    "1. Scipy use pivoting to improve numerical stability.\n",
    "2. Scipy is implemented much much better than here."
   ]
  },
  {
   "cell_type": "markdown",
   "metadata": {},
   "source": [
    "## Sparse matrices (+)"
   ]
  },
  {
   "cell_type": "markdown",
   "metadata": {},
   "source": [
    "**Sparse matrix:** A matrix with many zeros. Letting the computer know where they are is extremely valuable.\n",
    "\n",
    "**Documentation:** [basics](https://docs.scipy.org/doc/scipy/reference/sparse.html) + [linear algebra](https://docs.scipy.org/doc/scipy/reference/sparse.linalg.html#module-scipy.sparse.linalg)"
   ]
  },
  {
   "cell_type": "markdown",
   "metadata": {},
   "source": [
    "**Create a sparse matrix**, where most elements are on the diagonal:"
   ]
  },
  {
   "cell_type": "code",
   "execution_count": 50,
   "metadata": {},
   "outputs": [],
   "source": [
    "from scipy import sparse\n",
    "import scipy.sparse.linalg\n",
    "\n",
    "S = sparse.lil_matrix((1000, 1000)) # 1000x1000 matrix with zeroes\n",
    "S.setdiag(np.random.rand(1000)) # some values on the diagonal\n",
    "S[200, :100] = np.random.rand(100) # some values in a row\n",
    "S[200:210, 100:200] = S[200, :100] # and the same value in some other rows"
   ]
  },
  {
   "cell_type": "markdown",
   "metadata": {},
   "source": [
    "Create a plot of the values in the matrix:"
   ]
  },
  {
   "cell_type": "code",
   "execution_count": 51,
   "metadata": {},
   "outputs": [
    {
     "data": {
      "image/png": "[encoded data removed]",
      "text/plain": [
       "<Figure size 432x288 with 1 Axes>"
      ]
     },
     "metadata": {},
     "output_type": "display_data"
    }
   ],
   "source": [
    "S_np = S.toarray() # conversion to numpy\n",
    "fig = plt.figure()\n",
    "ax = fig.add_subplot(1,1,1)\n",
    "ax.matshow(S_np,cmap=plt.cm.binary);"
   ]
  },
  {
   "cell_type": "markdown",
   "metadata": {},
   "source": [
    "**Solve it in four different ways:**\n",
    "\n",
    "1. Like it was not sparse\n",
    "2. Using the sparsity\n",
    "3. Using the sparsity + explicit factorization\n",
    "4. Iterative solver (similar to Gauss-Seidel)"
   ]
  },
  {
   "cell_type": "code",
   "execution_count": 52,
   "metadata": {},
   "outputs": [
    {
     "name": "stdout",
     "output_type": "stream",
     "text": [
      "solve       : 0.03259 secs\n",
      "spsolve     : 0.00248 secs\n",
      "factorized  : 0.00184 secs\n",
      "bicgstab    : 0.02647 secs\n"
     ]
    }
   ],
   "source": [
    "k = np.random.rand(1000) # random RHS\n",
    "\n",
    "# a. solve\n",
    "t0 = time.time()\n",
    "x = linalg.solve(S_np,k)\n",
    "print(f'{\"solve\":12s}: {time.time()-t0:.5f} secs')\n",
    "\n",
    "# b. solve with spsolve\n",
    "t0 = time.time()\n",
    "x_alt = sparse.linalg.spsolve(S.tocsr(), k)\n",
    "print(f'{\"spsolve\":12s}: {time.time()-t0:.5f} secs')\n",
    "assert np.allclose(x,x_alt)\n",
    "      \n",
    "# c. solve with explicit factorization\n",
    "t0 = time.time()\n",
    "S_solver = sparse.linalg.factorized(S.tocsc())\n",
    "x_alt = S_solver(k)\n",
    "print(f'{\"factorized\":12s}: {time.time()-t0:.5f} secs')\n",
    "assert np.allclose(x,x_alt)\n",
    "      \n",
    "# d. solve with iterative solver (bicgstab)\n",
    "t0 = time.time()\n",
    "x_alt,_info = sparse.linalg.bicgstab(S,k,x0=1.001*x,tol=10**(-8))\n",
    "print(f'{\"bicgstab\":12s}: {time.time()-t0:.5f} secs')\n",
    "assert np.allclose(x,x_alt),x-x_alt"
   ]
  },
  {
   "cell_type": "markdown",
   "metadata": {},
   "source": [
    "**Conclusion:** \n",
    "\n",
    "1. Using the sparsity can be very important.\n",
    "2. Iterative solvers can be very very slow."
   ]
  },
  {
   "cell_type": "markdown",
   "metadata": {},
   "source": [
    "## Solving matrix equations symbolically (+)"
   ]
  },
  {
   "cell_type": "markdown",
   "metadata": {},
   "source": [
    "$$ Ax = b $$"
   ]
  },
  {
   "cell_type": "markdown",
   "metadata": {},
   "source": [
    "**Remember:**"
   ]
  },
  {
   "cell_type": "code",
   "execution_count": 53,
   "metadata": {},
   "outputs": [
    {
     "name": "stdout",
     "output_type": "stream",
     "text": [
      "A:\n",
      " [[ 3.  2.  0.]\n",
      " [ 1. -1.  0.]\n",
      " [ 0.  5.  1.]]\n",
      "b: [ 2.  4. -1.]\n"
     ]
    }
   ],
   "source": [
    "print('A:\\n',A)\n",
    "print('b:',b)"
   ]
  },
  {
   "cell_type": "markdown",
   "metadata": {},
   "source": [
    "**Construct symbolic matrix:**"
   ]
  },
  {
   "cell_type": "code",
   "execution_count": 54,
   "metadata": {},
   "outputs": [
    {
     "data": {
      "text/latex": [
       "$\\displaystyle \\left[\\begin{matrix}a_{11} & a_{12} & 0\\\\a_{21} & a_{22} & 0\\\\0 & a_{32} & a_{33}\\end{matrix}\\right]$"
      ],
      "text/plain": [
       "Matrix([\n",
       "[a_11, a_12,    0],\n",
       "[a_21, a_22,    0],\n",
       "[   0, a_32, a_33]])"
      ]
     },
     "execution_count": 54,
     "metadata": {},
     "output_type": "execute_result"
    }
   ],
   "source": [
    "A_sm = numecon_linalg.construct_sympy_matrix(['11','12','21','22','32','33']) # somewhat complicated function\n",
    "A_sm"
   ]
  },
  {
   "cell_type": "markdown",
   "metadata": {},
   "source": [
    "**Find the inverse symbolically:**"
   ]
  },
  {
   "cell_type": "code",
   "execution_count": 55,
   "metadata": {},
   "outputs": [
    {
     "data": {
      "text/latex": [
       "$\\displaystyle \\left[\\begin{matrix}\\frac{a_{22}}{a_{11} a_{22} - a_{12} a_{21}} & - \\frac{a_{12}}{a_{11} a_{22} - a_{12} a_{21}} & 0\\\\- \\frac{a_{21}}{a_{11} a_{22} - a_{12} a_{21}} & \\frac{a_{11}}{a_{11} a_{22} - a_{12} a_{21}} & 0\\\\\\frac{a_{21} a_{32}}{a_{11} a_{22} a_{33} - a_{12} a_{21} a_{33}} & - \\frac{a_{11} a_{32}}{a_{11} a_{22} a_{33} - a_{12} a_{21} a_{33}} & \\frac{1}{a_{33}}\\end{matrix}\\right]$"
      ],
      "text/plain": [
       "Matrix([\n",
       "[               a_22/(a_11*a_22 - a_12*a_21),                -a_12/(a_11*a_22 - a_12*a_21),      0],\n",
       "[              -a_21/(a_11*a_22 - a_12*a_21),                 a_11/(a_11*a_22 - a_12*a_21),      0],\n",
       "[a_21*a_32/(a_11*a_22*a_33 - a_12*a_21*a_33), -a_11*a_32/(a_11*a_22*a_33 - a_12*a_21*a_33), 1/a_33]])"
      ]
     },
     "execution_count": 55,
     "metadata": {},
     "output_type": "execute_result"
    }
   ],
   "source": [
    "A_sm_inv = A_sm.inv()\n",
    "A_sm_inv"
   ]
  },
  {
   "cell_type": "markdown",
   "metadata": {},
   "source": [
    "**Fill in the numeric values:**"
   ]
  },
  {
   "cell_type": "code",
   "execution_count": 56,
   "metadata": {},
   "outputs": [
    {
     "name": "stdout",
     "output_type": "stream",
     "text": [
      "solution: [ 2. -2.  9.]\n"
     ]
    }
   ],
   "source": [
    "A_inv_num = numecon_linalg.fill_sympy_matrix(A_sm_inv,A) # somewhat complicated function\n",
    "x = A_inv_num@b\n",
    "print('solution:',x)"
   ]
  },
  {
   "cell_type": "markdown",
   "metadata": {},
   "source": [
    "**Note:** The inverse multiplied by the determinant looks nicer..."
   ]
  },
  {
   "cell_type": "code",
   "execution_count": 57,
   "metadata": {},
   "outputs": [
    {
     "data": {
      "text/latex": [
       "$\\displaystyle a_{11} a_{22} a_{33} - a_{12} a_{21} a_{33}$"
      ],
      "text/plain": [
       "a_11*a_22*a_33 - a_12*a_21*a_33"
      ]
     },
     "execution_count": 57,
     "metadata": {},
     "output_type": "execute_result"
    }
   ],
   "source": [
    "A_sm_det = A_sm.det()\n",
    "A_sm_det"
   ]
  },
  {
   "cell_type": "code",
   "execution_count": 58,
   "metadata": {},
   "outputs": [
    {
     "data": {
      "text/latex": [
       "$\\displaystyle \\left[\\begin{matrix}a_{22} a_{33} & - a_{12} a_{33} & 0\\\\- a_{21} a_{33} & a_{11} a_{33} & 0\\\\a_{21} a_{32} & - a_{11} a_{32} & a_{11} a_{22} - a_{12} a_{21}\\end{matrix}\\right]$"
      ],
      "text/plain": [
       "Matrix([\n",
       "[ a_22*a_33, -a_12*a_33,                     0],\n",
       "[-a_21*a_33,  a_11*a_33,                     0],\n",
       "[ a_21*a_32, -a_11*a_32, a_11*a_22 - a_12*a_21]])"
      ]
     },
     "execution_count": 58,
     "metadata": {},
     "output_type": "execute_result"
    }
   ],
   "source": [
    "A_sm_inv_raw = sm.simplify(A_sm_inv*A_sm_det)\n",
    "A_sm_inv_raw"
   ]
  },
  {
   "cell_type": "markdown",
   "metadata": {},
   "source": [
    "# Non-linear equations - one dimensional"
   ]
  },
  {
   "cell_type": "markdown",
   "metadata": {},
   "source": [
    "## Introduction"
   ]
  },
  {
   "cell_type": "markdown",
   "metadata": {},
   "source": [
    "We often want to **solve non-linear equations** on the form,\n",
    "\n",
    "$$ \n",
    "f(x) = 0, x \\in \\mathbb{R} \n",
    "$$\n",
    "\n",
    "This is also called **root-finding**. In economics, we really like setting **First Order Conditions** to 0. Thus, we want to do root finding. "
   ]
  },
  {
   "cell_type": "markdown",
   "metadata": {},
   "source": [
    "A simple **example** of a function for our root finding:\n",
    "\n",
    "$$\n",
    "f(x) = -x^3 + 2x^2 + 4x + 30 \n",
    "$$"
   ]
  },
  {
   "cell_type": "markdown",
   "metadata": {},
   "source": [
    "## Derivative based methods"
   ]
  },
  {
   "cell_type": "markdown",
   "metadata": {},
   "source": [
    "**Newton methods:** Assume you know the function value and derivatives at $x_0$. "
   ]
  },
  {
   "cell_type": "markdown",
   "metadata": {},
   "source": [
    "A **first order** Taylor approximation of the function at $x_k$ is:\n",
    "\n",
    "$$ \n",
    "f(x_k) \\approx f(x_0) + f^{\\prime}(x_0)(x_k-x_0)\n",
    "$$\n",
    "\n",
    "implying \n",
    "\n",
    "$$\n",
    "f(x_k) = 0 \\Leftrightarrow x_k = x_0 - \\frac{f(x_0)}{f^{\\prime}(x_0)}\n",
    "$$"
   ]
  },
  {
   "cell_type": "markdown",
   "metadata": {},
   "source": [
    "This is called **Newton's method**.   \n",
    "\n",
    "You can think of it as an **operator** on $x$ with respect to $f$ used to find the **nearest** root of $f$.  \n",
    "\n",
    "Let's call the operator $\\mathcal{N}_f$. If our current guess of a root to $f$ is $x_k$, we can get a new guess $x_{k+1}$ by applying $\\mathcal{N}_f(x_k)$\n",
    "* $x_1 = \\mathcal{N}_f(x_0) =  x_0 - \\frac{f(x_0)}{f^{\\prime}(x_0)}$\n",
    "* $x_2 = \\mathcal{N}_f(x_1)$\n",
    "* $x_3 = \\mathcal{N}_f(x_2)$\n",
    "* ...\n",
    "\n",
    "We have found a root when $|f(x_{k})| < \\epsilon$ which implies that the consecutive guesses also will become very close: $|x_{k+1}-x_k| < \\epsilon'$."
   ]
  },
  {
   "cell_type": "markdown",
   "metadata": {},
   "source": [
    "An alternative is **Halleys method** (see [derivation](https://mathworld.wolfram.com/HalleysMethod.html)), which uses\n",
    "\n",
    "$$\n",
    "x_k = x_0 - \\frac{f(x_0)}{f^{\\prime}(x_0)} \\Big[ 1-\\frac{f(x_0)}{f^{\\prime}(x_0)}\\frac{f^{\\prime\\prime}(x_0)}{2f^{\\prime}(x_0)} \\Big]^{-1} := \\mathcal{H}_f(x_0)\n",
    "$$\n",
    "\n",
    "making use of information from the **second derivative**. Note that if the second derivative is close to 0, Halley's method collapses into Newton's.  \n",
    "\n",
    "We denote this operator by $\\mathcal{H}_f(x_k)$\n"
   ]
  },
  {
   "cell_type": "markdown",
   "metadata": {},
   "source": [
    "**Algorithm:** `find_root()`\n",
    "\n",
    "1. Choose tolerance $\\epsilon > 0$, guess on $x_0$ and set $n = 0$.\n",
    "2. Calculate $f(x_n)$ and $f^{\\prime}(x_k)$. Also calculate $f^{\\prime\\prime}(x_k)$ when using Halley's method.\n",
    "3. If $|f(x_k)| < \\epsilon$ then stop.\n",
    "4. Calculate new candidate $x_{k+1} = \\mathcal{N}_f(x_k)$ when using Newtons.  \n",
    "   Otherwise, calculate $x_{k+1} = \\mathcal{H}_f(x_k)$ when using Halleys formula.\n",
    "5. Set $k = k + 1$ and return to step 2."
   ]
  },
  {
   "cell_type": "code",
   "execution_count": 59,
   "metadata": {},
   "outputs": [],
   "source": [
    "def find_root(x0,f,df,d2f=None,method='newton',max_iter=500,tol=1e-8,full_info=False):\n",
    "    \"\"\" find root\n",
    "        \n",
    "    Args:\n",
    "    \n",
    "        x0 (float): initial value\n",
    "        f (callable): function\n",
    "        fp (callable): derivative\n",
    "        fp (callable): second derivative\n",
    "        method (str): newton or halley\n",
    "        max_iter (int): maximum number of iterations\n",
    "        tol (float): tolerance\n",
    "        full_info (bool): controls information returned\n",
    "        \n",
    "    Returns:\n",
    "    \n",
    "        x (float/ndarray): root (if full_info, all x tried)\n",
    "        i (int): number of iterations used\n",
    "        fx (ndarray): function values used (if full_info) \n",
    "        fpx (ndarray): derivative values used (if full_info)\n",
    "        fppx (ndarray): second derivative values used (if full_info)\n",
    "        \n",
    "    \"\"\"\n",
    "    \n",
    "    # initialize\n",
    "    xs = []\n",
    "    fxs = []\n",
    "    dfxs = []\n",
    "    d2fxs = []\n",
    "    \n",
    "    # iterate\n",
    "    x = x0    \n",
    "    i = 0    \n",
    "    while True:\n",
    "        \n",
    "        # step 2: evaluate function and derivatives\n",
    "        fx = f(x)\n",
    "        dfx = df(x)\n",
    "        if method == 'halley':\n",
    "            d2fx = d2f(x)\n",
    "        \n",
    "        # step 3: check convergence\n",
    "        if abs(fx) < tol or i >= max_iter:\n",
    "            break\n",
    "            \n",
    "        # step 4: update x\n",
    "        if method == 'newton':\n",
    "            x_k = x - fx/dfx\n",
    "        elif method == 'halley':\n",
    "            a = fx/dfx\n",
    "            b = a*d2fx/(2*dfx)\n",
    "            x_k = x - a/(1-b)\n",
    "        \n",
    "        # step 5: increment counter\n",
    "        i += 1\n",
    "        \n",
    "        # step 6: store history\n",
    "        xs.append(x)\n",
    "        fxs.append(fx)\n",
    "        dfxs.append(dfx)\n",
    "        if method == 'halley':\n",
    "            d2fxs.append(d2fx)\n",
    "        \n",
    "        # step 7: apply new guess for x\n",
    "        x = x_k\n",
    "        \n",
    "    # return\n",
    "    if full_info:\n",
    "        return np.array(xs),i,np.array(fxs),np.array(dfxs),np.array(d2fxs)\n",
    "    else:\n",
    "        return x,i"
   ]
  },
  {
   "cell_type": "markdown",
   "metadata": {},
   "source": [
    "**Note:** The cell below contains a function for plotting the convergence."
   ]
  },
  {
   "cell_type": "code",
   "execution_count": 164,
   "metadata": {},
   "outputs": [],
   "source": [
    "def plot_find_root(x0,f,fp,fpp=None,method='newton',xmin=-8,xmax=8,xn=100, vline = False):\n",
    "    \n",
    "    # a. find root and return all information \n",
    "    x,max_iter,fx,fpx,fppx = find_root(x0,f,df=fp,d2f=fpp,method=method,full_info=True)\n",
    "    \n",
    "    # b. compute function on grid\n",
    "    xvec = np.linspace(xmin,xmax,xn)\n",
    "    fxvec = f(xvec)\n",
    "    \n",
    "    # c. figure\n",
    "    def _figure(i):\n",
    "        \n",
    "        # i. approximation\n",
    "        if method == 'newton':\n",
    "            fapprox = fx[i] + fpx[i]*(xvec-x[i])\n",
    "        elif method == 'halley':\n",
    "            fapprox = fx[i] + fpx[i]*(xvec-x[i]) + fppx[i]/2*(xvec-x[i])**2  \n",
    "            \n",
    "        # ii. figure\n",
    "        fig = plt.figure()\n",
    "        ax = fig.add_subplot(1,1,1)\n",
    "        \n",
    "        ax.plot(xvec,fxvec,label='function') # on grid\n",
    "        ax.plot(x[i],0,'o',color='blue',mfc='none',label='$x_{k}$')# now\n",
    "        ax.plot(x[i],fx[i],'o',color='black',label='$f(x_k)$') # now       \n",
    "        ax.plot(xvec,fapprox,label='approximation') # approximation\n",
    "        \n",
    "        if vline:\n",
    "            ax.axvline(x[i+1],ls='--',lw=1,color='black') # cross zero\n",
    "        \n",
    "        ax.axvline(0,ls='-',lw=1,color='black') # cross zero\n",
    "        ax.axhline(0, ls='-',lw=1,color='black')\n",
    "        #ax.plot(x[i+1],fx[i+1],'o',color='black',mfc='none',label='next')# next\n",
    "        ax.plot(x[i+1],0,'o',color='green',mfc='none',label='$x_{k+1}$')# next\n",
    "            \n",
    "        ax.legend(loc='lower right',facecolor='white',frameon=True)\n",
    "        ax.set_ylim([fxvec[0],fxvec[-1]])\n",
    "    \n",
    "    widgets.interact(_figure,\n",
    "        i=widgets.IntSlider(description=\"iterations\", min=0, max=max_iter-2, step=1, value=0)\n",
    "    );"
   ]
  },
  {
   "cell_type": "markdown",
   "metadata": {},
   "source": [
    "## Example"
   ]
  },
  {
   "cell_type": "code",
   "execution_count": 148,
   "metadata": {},
   "outputs": [
    {
     "data": {
      "text/latex": [
       "$\\displaystyle - x^{3} + 2 x^{2} + 4 x + 30$"
      ],
      "text/plain": [
       "-x**3 + 2*x**2 + 4*x + 30"
      ]
     },
     "metadata": {},
     "output_type": "display_data"
    },
    {
     "data": {
      "text/latex": [
       "$\\displaystyle - 3 x^{2} + 4 x + 4$"
      ],
      "text/plain": [
       "-3*x**2 + 4*x + 4"
      ]
     },
     "metadata": {},
     "output_type": "display_data"
    },
    {
     "data": {
      "text/latex": [
       "$\\displaystyle 4 - 6 x$"
      ],
      "text/plain": [
       "4 - 6*x"
      ]
     },
     "metadata": {},
     "output_type": "display_data"
    }
   ],
   "source": [
    "# Another use case of our symbolic math\n",
    "x = sm.symbols('x')\n",
    "func = -x**3 + 2*x**2 + 4*x + 30\n",
    "dfunc = sm.diff(func, x)\n",
    "d2func = sm.diff(dfunc, x)\n",
    "\n",
    "display(func)\n",
    "display(dfunc)\n",
    "display(d2func)"
   ]
  },
  {
   "cell_type": "code",
   "execution_count": 149,
   "metadata": {},
   "outputs": [],
   "source": [
    "# Lambdify\n",
    "f = sm.lambdify((x), func)\n",
    "df = sm.lambdify((x), dfunc)\n",
    "d2f = sm.lambdify((x), d2func)"
   ]
  },
  {
   "cell_type": "code",
   "execution_count": 152,
   "metadata": {},
   "outputs": [
    {
     "name": "stdout",
     "output_type": "stream",
     "text": [
      "Iterations: 26, root = 4.430847399984182\n"
     ]
    }
   ],
   "source": [
    "x, i = find_root(-2,f,df,method='newton', full_info=False)\n",
    "print(f'Iterations: {i}, root = {x}')"
   ]
  },
  {
   "cell_type": "markdown",
   "metadata": {},
   "source": [
    "Notice how the **flat region** tricks both Newton's and Halley's methods.  \n",
    "Especially Halley's method does better if it is started to the right of the root rather than to the left. "
   ]
  },
  {
   "cell_type": "code",
   "execution_count": 153,
   "metadata": {},
   "outputs": [
    {
     "data": {
      "application/vnd.jupyter.widget-view+json": {
       "model_id": "cdadc18b833c475299f7eede0be3d48e",
       "version_major": 2,
       "version_minor": 0
      },
      "text/plain": [
       "interactive(children=(IntSlider(value=0, description='iterations', max=4), Output()), _dom_classes=('widget-in…"
      ]
     },
     "metadata": {},
     "output_type": "display_data"
    }
   ],
   "source": [
    "plot_find_root(-3,f,df,method='newton')"
   ]
  },
  {
   "cell_type": "code",
   "execution_count": 154,
   "metadata": {},
   "outputs": [
    {
     "name": "stdout",
     "output_type": "stream",
     "text": [
      "22 4.43084739997514 3.361044775829214e-10\n"
     ]
    }
   ],
   "source": [
    "x,i = find_root(-5,f,df,d2f,method='halley')\n",
    "print(i,x,f(x))"
   ]
  },
  {
   "cell_type": "code",
   "execution_count": 158,
   "metadata": {},
   "outputs": [
    {
     "data": {
      "application/vnd.jupyter.widget-view+json": {
       "model_id": "4a9ec15973854199b6ac7ec58dfc3088",
       "version_major": 2,
       "version_minor": 0
      },
      "text/plain": [
       "interactive(children=(IntSlider(value=0, description='iterations', max=2), Output()), _dom_classes=('widget-in…"
      ]
     },
     "metadata": {},
     "output_type": "display_data"
    }
   ],
   "source": [
    "plot_find_root(8,f,df,d2f,method='halley', vline='True')"
   ]
  },
  {
   "cell_type": "markdown",
   "metadata": {},
   "source": [
    "## Numerical derivative"
   ]
  },
  {
   "cell_type": "markdown",
   "metadata": {},
   "source": [
    "Sometimes, you might not have the **analytical derivative**. Then, you can instead use the **numerical derivative**."
   ]
  },
  {
   "cell_type": "markdown",
   "metadata": {},
   "source": [
    "**Numerical derivative**  \n",
    "Define $\\Delta$ to be a small number, then we approximate the derivative by \n",
    "$$\n",
    " \\frac{df}{dx} \\approx \\frac{f(x+\\Delta) - f(x)}{\\Delta}\n",
    "$$"
   ]
  },
  {
   "cell_type": "code",
   "execution_count": 159,
   "metadata": {},
   "outputs": [
    {
     "name": "stdout",
     "output_type": "stream",
     "text": [
      "iterations: 17, root: 0.5000000000000091, f(x) = 5.928590951498336e-14\n"
     ]
    }
   ],
   "source": [
    "# a. function\n",
    "f = lambda x: 10*x**3 - x**2 -1\n",
    "\n",
    "# b. numerical derivative (forward)\n",
    "Δ = 1e-8\n",
    "fp_approx = lambda x: (f(x+Δ)-f(x))/Δ\n",
    "\n",
    "# b. find root\n",
    "x0 = -5\n",
    "x,i = find_root(x0,f,fp_approx,method='newton')\n",
    "print(f'iterations: {i}, root: {x}, f(x) = {f(x)}')"
   ]
  },
  {
   "cell_type": "markdown",
   "metadata": {},
   "source": [
    "**Question:** What happens if you increase the stepsize?"
   ]
  },
  {
   "cell_type": "markdown",
   "metadata": {},
   "source": [
    "## Another example"
   ]
  },
  {
   "cell_type": "code",
   "execution_count": 163,
   "metadata": {},
   "outputs": [
    {
     "data": {
      "application/vnd.jupyter.widget-view+json": {
       "model_id": "1f5bf3881bd8410591e34e81cafeeebb",
       "version_major": 2,
       "version_minor": 0
      },
      "text/plain": [
       "interactive(children=(IntSlider(value=0, description='iterations', max=4), Output()), _dom_classes=('widget-in…"
      ]
     },
     "metadata": {},
     "output_type": "display_data"
    }
   ],
   "source": [
    "g = lambda x: np.sin(x)\n",
    "gp = lambda x: np.cos(x)\n",
    "gpp = lambda x: -np.sin(x)\n",
    "\n",
    "x0 = -2.0\n",
    "plot_find_root(x0,g,gp,gpp,method='newton')"
   ]
  },
  {
   "cell_type": "markdown",
   "metadata": {},
   "source": [
    "**Question:** Is the initial value important?"
   ]
  },
  {
   "cell_type": "markdown",
   "metadata": {},
   "source": [
    "**Sympy** can actually tell us that there are many solutions:"
   ]
  },
  {
   "cell_type": "code",
   "execution_count": 68,
   "metadata": {},
   "outputs": [
    {
     "data": {
      "text/latex": [
       "$\\displaystyle \\left\\{2 n \\pi\\; \\middle|\\; n \\in \\mathbb{Z}\\right\\} \\cup \\left\\{2 n \\pi + \\pi\\; \\middle|\\; n \\in \\mathbb{Z}\\right\\}$"
      ],
      "text/plain": [
       "Union(ImageSet(Lambda(_n, 2*_n*pi + pi), Integers), ImageSet(Lambda(_n, 2*_n*pi), Integers))"
      ]
     },
     "execution_count": 68,
     "metadata": {},
     "output_type": "execute_result"
    }
   ],
   "source": [
    "x = sm.symbols('x')\n",
    "sm.solveset(sm.sin(x),)"
   ]
  },
  {
   "cell_type": "markdown",
   "metadata": {},
   "source": [
    "## Derivative free methods: Bisection"
   ]
  },
  {
   "cell_type": "markdown",
   "metadata": {},
   "source": [
    "**Algorithm:** `bisection()`\n",
    "\n",
    "1. Set $a_0 = a$ and $b_0 = b$ where $f(a)$ and $f(b)$ has oposite sign, $f(a_0)f(b_0)<0$\n",
    "2. Compute $f(m_0)$ where $m_0 = (a_0 + b_0)/2$ is the midpoint.\n",
    "3. Determine the next sub-interval $[a_1,b_1]$:\n",
    "  * If $f(a_0)f(m_0) < 0$ (different signs) then $a_1 = a_0$ and $b_1 = m_0$ (i.e. focus on the range $[a_0,m_0]$).\n",
    "  * If $f(m_0)f(b_0) < 0$ (different signs) then $a_1 = m_0$ and $b_1 = b_0$ (i.e. focus on the range $[m_0,b_0]$).\n",
    "4. Repeat step 2 and step 3 until $f(m_n) < \\epsilon$."
   ]
  },
  {
   "cell_type": "code",
   "execution_count": 69,
   "metadata": {},
   "outputs": [],
   "source": [
    "def bisection(f,a,b,max_iter=500,tol=1e-6,full_info=False):\n",
    "    \"\"\" bisection\n",
    "    \n",
    "    Solve equation f(x) = 0 for a <= x <= b.\n",
    "    \n",
    "    Args:\n",
    "    \n",
    "        f (callable): function\n",
    "        a (float): left bound\n",
    "        b (float): right bound\n",
    "        max_iter (int): maximum number of iterations\n",
    "        tol (float): tolerance on solution\n",
    "        full_info (bool): controls information returned\n",
    "        \n",
    "    Returns:\n",
    "    \n",
    "        m (float/ndarray): root (if full_info, all x tried)\n",
    "        i (int): number of iterations used\n",
    "        a (ndarray): left bounds used\n",
    "        b (ndarray): right bounds used\n",
    "        fm (ndarray): funciton values at midpoints\n",
    "        \n",
    "    \"\"\"\n",
    "    \n",
    "    # test inputs\n",
    "    if f(a)*f(b) >= 0:\n",
    "        print(\"bisection method fails.\")\n",
    "        return None\n",
    "    \n",
    "    # step 1: initialize\n",
    "    a_l = []\n",
    "    b_l = []\n",
    "    m_l = []\n",
    "    fm_l = []\n",
    "    \n",
    "    # step 2-4: main\n",
    "    i = 0\n",
    "    while i < max_iter:\n",
    "        \n",
    "        # step 2: midpoint and associated value\n",
    "        m = (a+b)/2\n",
    "        fm = f(m)\n",
    "        \n",
    "        # substep: update the lists of history \n",
    "        a_l.append(a)\n",
    "        b_l.append(b)\n",
    "        m_l.append(m)\n",
    "        fm_l.append(fm)\n",
    "        \n",
    "        # step 3: determine sub-interval\n",
    "        if abs(fm) < tol:\n",
    "            break        \n",
    "        elif f(a)*fm < 0:\n",
    "            b = m\n",
    "        elif f(b)*fm < 0:\n",
    "            a = m\n",
    "        else:\n",
    "            print(\"bisection method fails.\")\n",
    "            return None\n",
    "        \n",
    "        i += 1\n",
    "        \n",
    "    if full_info:\n",
    "        # Returned lists are converted to np.arrays for good measure\n",
    "        return np.array(m_l), i, np.array(a_l), np.array(b_l), np.array(fm_l)\n",
    "    else:\n",
    "        return m,i"
   ]
  },
  {
   "cell_type": "markdown",
   "metadata": {},
   "source": [
    "**Same result** as before, but **trade-off** between more iterations and no evaluation of derivatives."
   ]
  },
  {
   "cell_type": "code",
   "execution_count": 70,
   "metadata": {},
   "outputs": [
    {
     "name": "stdout",
     "output_type": "stream",
     "text": [
      "29 0.5000000167638063 1.0896474522681387e-07\n"
     ]
    }
   ],
   "source": [
    "m,i = bisection(f,-180,70)\n",
    "print(i,m,f(m))"
   ]
  },
  {
   "cell_type": "markdown",
   "metadata": {},
   "source": [
    "**Note:** The cell below contains a function for plotting the convergence."
   ]
  },
  {
   "cell_type": "code",
   "execution_count": 71,
   "metadata": {},
   "outputs": [
    {
     "data": {
      "application/vnd.jupyter.widget-view+json": {
       "model_id": "2460a8a471474b588fe58e0e5f457908",
       "version_major": 2,
       "version_minor": 0
      },
      "text/plain": [
       "interactive(children=(IntSlider(value=0, description='iterations', max=23), Output()), _dom_classes=('widget-i…"
      ]
     },
     "metadata": {},
     "output_type": "display_data"
    }
   ],
   "source": [
    "def plot_bisection(f,a,b,xmin=-8,xmax=8,xn=100):\n",
    "    \n",
    "    # a. find root and return all information \n",
    "    res = bisection(f,a,b,full_info=True)\n",
    "    if res == None:\n",
    "        return\n",
    "    else:\n",
    "        m,max_iter,a,b,fm = res\n",
    "    \n",
    "    # b. compute function on grid\n",
    "    xvec = np.linspace(xmin,xmax,xn)\n",
    "    fxvec = f(xvec)\n",
    "    \n",
    "    # c. figure\n",
    "    def _figure(i):\n",
    "        \n",
    "        # ii. figure\n",
    "        fig = plt.figure()\n",
    "        ax = fig.add_subplot(1,1,1)\n",
    "        \n",
    "        ax.plot(xvec,fxvec) # on grid\n",
    "        ax.plot(m[i],fm[i],'o',color='black',label='current') # mid\n",
    "        ax.plot([a[i],b[i]],[fm[i],fm[i]],'--',color='black',label='range') # range\n",
    "        ax.axvline(a[i],ls='--',color='black')\n",
    "        ax.axvline(b[i],ls='--',color='black')        \n",
    "        \n",
    "        ax.legend(loc='lower right',facecolor='white',frameon=True)\n",
    "        ax.set_ylim([fxvec[0],fxvec[-1]])\n",
    "    \n",
    "    widgets.interact(_figure,\n",
    "        i=widgets.IntSlider(description=\"iterations\", min=0, max=max_iter-1, step=1, value=0)\n",
    "    );\n",
    "\n",
    "plot_bisection(f,-8,3)"
   ]
  },
  {
   "cell_type": "markdown",
   "metadata": {},
   "source": [
    "**Note:** Bisection is not good at the final convergence steps. Generally true for methods not using derivatives."
   ]
  },
  {
   "cell_type": "markdown",
   "metadata": {},
   "source": [
    "## Scipy"
   ]
  },
  {
   "cell_type": "markdown",
   "metadata": {},
   "source": [
    "Scipy, naturally, has better implementations of the above algorithms."
   ]
  },
  {
   "cell_type": "markdown",
   "metadata": {},
   "source": [
    "**Newton:**"
   ]
  },
  {
   "cell_type": "code",
   "execution_count": 72,
   "metadata": {},
   "outputs": [
    {
     "name": "stdout",
     "output_type": "stream",
     "text": [
      "      converged: True\n",
      "           flag: 'converged'\n",
      " function_calls: 30\n",
      "     iterations: 15\n",
      "           root: 0.5\n"
     ]
    }
   ],
   "source": [
    "result = optimize.root_scalar(f,x0=-4,fprime=fp,method='newton')\n",
    "print(result)"
   ]
  },
  {
   "cell_type": "markdown",
   "metadata": {},
   "source": [
    "**Halley:**"
   ]
  },
  {
   "cell_type": "code",
   "execution_count": 73,
   "metadata": {},
   "outputs": [
    {
     "name": "stdout",
     "output_type": "stream",
     "text": [
      "      converged: True\n",
      "           flag: 'converged'\n",
      " function_calls: 27\n",
      "     iterations: 9\n",
      "           root: 0.5\n"
     ]
    }
   ],
   "source": [
    "result = optimize.root_scalar(f,x0=-4,fprime=fp,fprime2=fpp,method='halley')\n",
    "print(result)"
   ]
  },
  {
   "cell_type": "markdown",
   "metadata": {},
   "source": [
    "**Bisect:**"
   ]
  },
  {
   "cell_type": "code",
   "execution_count": 74,
   "metadata": {},
   "outputs": [
    {
     "name": "stdout",
     "output_type": "stream",
     "text": [
      "      converged: True\n",
      "           flag: 'converged'\n",
      " function_calls: 45\n",
      "     iterations: 43\n",
      "           root: 0.5000000000007958\n"
     ]
    }
   ],
   "source": [
    "result = optimize.root_scalar(f,bracket=[-8,7],method='bisect')\n",
    "print(result)"
   ]
  },
  {
   "cell_type": "markdown",
   "metadata": {},
   "source": [
    "The **best choice** is the more advanced **Brent-method**:"
   ]
  },
  {
   "cell_type": "code",
   "execution_count": 75,
   "metadata": {},
   "outputs": [
    {
     "name": "stdout",
     "output_type": "stream",
     "text": [
      "      converged: True\n",
      "           flag: 'converged'\n",
      " function_calls: 16\n",
      "     iterations: 15\n",
      "           root: 0.5000000000002526\n"
     ]
    }
   ],
   "source": [
    "result = optimize.root_scalar(f,bracket=[-8,7],method='brentq')\n",
    "print(result)"
   ]
  },
  {
   "cell_type": "markdown",
   "metadata": {},
   "source": [
    "# Solving non-linear equations (multi-dimensional)"
   ]
  },
  {
   "cell_type": "markdown",
   "metadata": {},
   "source": [
    "## Introduction"
   ]
  },
  {
   "cell_type": "markdown",
   "metadata": {},
   "source": [
    "We consider **solving non-linear equations** on the form,\n",
    "\n",
    "$$ \n",
    "f(\\boldsymbol{x}) = f(x_1,x_2,\\dots,x_k) = \\boldsymbol{0}, \\boldsymbol{x} \\in \\mathbb{R}^k\n",
    "$$"
   ]
  },
  {
   "cell_type": "markdown",
   "metadata": {},
   "source": [
    "A specific **example** is:\n",
    "\n",
    "$$ \n",
    "h(\\boldsymbol{x})=h(x_{1,}x_{2})=\\begin{bmatrix}h_{1}(x_{1},x_{2})\\\\\n",
    "h_{2}(x_{1},x_{2})\n",
    "\\end{bmatrix}=\\begin{bmatrix}x_{1}+0.5(x_{1}-x_{2})^{3}-1\\\\\n",
    "x_{2}+0.5(x_{1}-x_{2})^{3}\n",
    "\\end{bmatrix}\\in\\mathbb{R}^{2} \n",
    "$$\n",
    "\n",
    "where the **Jacobian** is\n",
    "\n",
    "$$ \n",
    "\\nabla h(\\boldsymbol{x})=\\begin{bmatrix}\\frac{\\partial h_{1}}{\\partial x_{1}} & \\frac{\\partial h_{1}}{\\partial x_{2}}\\\\\n",
    "\\frac{\\partial h_{2}}{\\partial x_{1}} & \\frac{\\partial h_{2}}{\\partial x_{2}}\n",
    "\\end{bmatrix}=\\begin{bmatrix}1+1.5(x_{1}-x_{2})^{2} & -1.5(x_{1}-x_{2})^{2}\\\\\n",
    "-1.5(x_{2}-x_{1})^{2} & 1+1.5(x_{2}-x_{1})^{2}\n",
    "\\end{bmatrix}\n",
    "$$"
   ]
  },
  {
   "cell_type": "code",
   "execution_count": 76,
   "metadata": {},
   "outputs": [],
   "source": [
    "def h(x):\n",
    "    y = np.zeros(2)\n",
    "    y[0] = x[0]+0.5*(x[0]-x[1])**3-1.0\n",
    "    y[1] = x[1]+0.5*(x[1]-x[0])**3\n",
    "    return y\n",
    "\n",
    "def hp(x):\n",
    "    y = np.zeros((2,2))\n",
    "    y[0,0] = 1+1.5*(x[0]-x[1])**2\n",
    "    y[0,1] = -1.5*(x[0]-x[1])**2\n",
    "    y[1,0] = -1.5*(x[1]-x[0])**2\n",
    "    y[1,1] = 1+1.5*(x[1]-x[0])**2\n",
    "    return y"
   ]
  },
  {
   "cell_type": "markdown",
   "metadata": {},
   "source": [
    "## Newton's method"
   ]
  },
  {
   "cell_type": "markdown",
   "metadata": {},
   "source": [
    "Same as Newton's method in one dimension, but with the following **update step**:\n",
    "\n",
    "$$ \n",
    "\\boldsymbol{x}_{n+1} = \\boldsymbol{x_n} - [ \\nabla h(\\boldsymbol{x_n})]^{-1} f(\\boldsymbol{x_n})\n",
    "$$"
   ]
  },
  {
   "cell_type": "code",
   "execution_count": 77,
   "metadata": {},
   "outputs": [],
   "source": [
    "def find_root_multidim(x0,f,fp,max_iter=500,tol=1e-8):\n",
    "    \"\"\" find root\n",
    "        \n",
    "    Args:\n",
    "    \n",
    "        x0 (float): initial value\n",
    "        f (callable): function\n",
    "        fp (callable): derivative\n",
    "        max_iter (int): maximum number of iterations\n",
    "        tol (float): tolerance\n",
    "        \n",
    "    Returns:\n",
    "    \n",
    "        x (float): root\n",
    "        i (int): number of iterations used\n",
    "        \n",
    "    \"\"\"\n",
    "    \n",
    "    # initialize\n",
    "    x = x0\n",
    "    i = 0\n",
    "    \n",
    "    # iterate\n",
    "    while i < max_iter:\n",
    "        \n",
    "        # step 2: function and derivatives\n",
    "        fx = f(x)\n",
    "        fpx = fp(x)\n",
    "        \n",
    "        # step 3: check convergence\n",
    "        if max(abs(fx)) < tol:\n",
    "            break\n",
    "            \n",
    "        # step 4: update x\n",
    "        fpx_inv = linalg.inv(fpx)        \n",
    "        x = x - fpx_inv@fx\n",
    "        \n",
    "        # step 5: increment counter\n",
    "        i += 1\n",
    "        \n",
    "    return x,i"
   ]
  },
  {
   "cell_type": "markdown",
   "metadata": {},
   "source": [
    "**Test algorithm:**"
   ]
  },
  {
   "cell_type": "code",
   "execution_count": 78,
   "metadata": {},
   "outputs": [
    {
     "name": "stdout",
     "output_type": "stream",
     "text": [
      "5 [0.8411639 0.1588361] [ 1.41997525e-10 -1.41997469e-10]\n"
     ]
    }
   ],
   "source": [
    "x0 = np.array([0,0])\n",
    "x,i = find_root_multidim(x0,h,hp)\n",
    "print(i,x,h(x))"
   ]
  },
  {
   "cell_type": "markdown",
   "metadata": {},
   "source": [
    "## Using Scipy"
   ]
  },
  {
   "cell_type": "markdown",
   "metadata": {},
   "source": [
    "You should use profesionally implemented routines for optimizing your models!   \n",
    "There exist a lot of efficient algorithms for finding roots in multiple dimensions. The default **scipy** choice is something called ***hybr***."
   ]
  },
  {
   "cell_type": "markdown",
   "metadata": {},
   "source": [
    "**With the Jacobian:**"
   ]
  },
  {
   "cell_type": "code",
   "execution_count": 79,
   "metadata": {},
   "outputs": [
    {
     "name": "stdout",
     "output_type": "stream",
     "text": [
      "    fjac: array([[ 0.89914291, -0.43765515],\n",
      "       [ 0.43765515,  0.89914291]])\n",
      "     fun: array([-1.11022302e-16,  0.00000000e+00])\n",
      " message: 'The solution converged.'\n",
      "    nfev: 10\n",
      "    njev: 1\n",
      "     qtf: array([-1.19565972e-11,  4.12770392e-12])\n",
      "       r: array([ 2.16690469, -1.03701789,  1.10605417])\n",
      "  status: 1\n",
      " success: True\n",
      "       x: array([0.8411639, 0.1588361])\n",
      "\n",
      "x = [0.8411639 0.1588361] , h(x) = [-1.11022302e-16  0.00000000e+00]\n"
     ]
    }
   ],
   "source": [
    "result = optimize.root(h,x0,jac=hp)\n",
    "print(result)\n",
    "print('\\nx =',result.x,', h(x) =',h(result.x))"
   ]
  },
  {
   "cell_type": "markdown",
   "metadata": {},
   "source": [
    "**Without the Jacobian:** (numerical derivative)"
   ]
  },
  {
   "cell_type": "code",
   "execution_count": 80,
   "metadata": {},
   "outputs": [
    {
     "name": "stdout",
     "output_type": "stream",
     "text": [
      "    fjac: array([[-0.89914291,  0.43765515],\n",
      "       [-0.43765515, -0.89914291]])\n",
      "     fun: array([-1.11022302e-16,  0.00000000e+00])\n",
      " message: 'The solution converged.'\n",
      "    nfev: 12\n",
      "     qtf: array([ 1.19565972e-11, -4.12770392e-12])\n",
      "       r: array([-2.16690469,  1.03701789, -1.10605417])\n",
      "  status: 1\n",
      " success: True\n",
      "       x: array([0.8411639, 0.1588361])\n",
      "\n",
      "x = [0.8411639 0.1588361] , h(x) = [-1.11022302e-16  0.00000000e+00]\n"
     ]
    }
   ],
   "source": [
    "result = optimize.root(h,x0)\n",
    "print(result)\n",
    "print('\\nx =',result.x,', h(x) =',h(result.x))"
   ]
  },
  {
   "cell_type": "markdown",
   "metadata": {},
   "source": [
    "# Summary"
   ]
  },
  {
   "cell_type": "markdown",
   "metadata": {},
   "source": [
    "**This lecture:**\n",
    "\n",
    "1. Solving matrix equations (directly, decomposition, iterative)\n",
    "2. Symbollic solutions (substitution, derivative, solution)\n",
    "3. Root-finding (one dimension, multiple dimensions, Newton's method, biscetion)"
   ]
  },
  {
   "cell_type": "markdown",
   "metadata": {},
   "source": [
    "**Your work:** Play around with the code in this notebook before solving the problem set. Especially, try out the various scipy functions used."
   ]
  },
  {
   "cell_type": "markdown",
   "metadata": {},
   "source": [
    "**Next lecture:** Numerical optimization."
   ]
  }
 ],
 "metadata": {
  "kernelspec": {
   "display_name": "Python 3",
   "language": "python",
   "name": "python3"
  },
  "language_info": {
   "codemirror_mode": {
    "name": "ipython",
    "version": 3
   },
   "file_extension": ".py",
   "mimetype": "text/x-python",
   "name": "python",
   "nbconvert_exporter": "python",
   "pygments_lexer": "ipython3",
   "version": "3.8.8"
  },
  "toc-autonumbering": true
 },
 "nbformat": 4,
 "nbformat_minor": 4
}
